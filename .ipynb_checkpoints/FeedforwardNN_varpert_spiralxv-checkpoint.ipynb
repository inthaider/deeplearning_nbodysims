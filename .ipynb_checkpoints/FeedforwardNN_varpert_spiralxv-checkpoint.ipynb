{
 "cells": [
  {
   "cell_type": "code",
   "execution_count": 1,
   "metadata": {
    "tags": []
   },
   "outputs": [
    {
     "name": "stdout",
     "output_type": "stream",
     "text": [
      "Populating the interactive namespace from numpy and matplotlib\n"
     ]
    }
   ],
   "source": [
    "import torch\n",
    "import torch.nn as nn\n",
    "import torchvision.transforms as transforms\n",
    "import torchvision.datasets as dsets\n",
    "from torch.autograd import Variable\n",
    "import numpy as np\n",
    "from torch.utils.data import TensorDataset, DataLoader\n",
    "import scipy.stats as stats\n",
    "from math import isclose\n",
    "np.set_printoptions(suppress=True,\n",
    "   formatter={'float_kind':'{:f}'.format})\n",
    "   \n",
    "%pylab inline\n",
    "from matplotlib import cm\n",
    "from IPython.display import HTML\n",
    "_SAVE_GIFS= False\n",
    "rcParams.update({'axes.labelsize': 17.,\n",
    "              'font.size': 12.,\n",
    "              'legend.fontsize': 17.,\n",
    "              'xtick.labelsize':15.,\n",
    "              'ytick.labelsize':15.,\n",
    "              'text.usetex': _SAVE_GIFS,\n",
    "              'figure.figsize': [10,10],\n",
    "              'xtick.major.size' : 4,\n",
    "              'ytick.major.size' : 4,\n",
    "              'xtick.minor.size' : 2,\n",
    "              'ytick.minor.size' : 2,\n",
    "              'legend.numpoints':1})"
   ]
  },
  {
   "cell_type": "markdown",
   "metadata": {},
   "source": [
    "### STEP 1: LOADING DATASET"
   ]
  },
  {
   "cell_type": "code",
   "execution_count": 147,
   "metadata": {
    "tags": []
   },
   "outputs": [
    {
     "name": "stdout",
     "output_type": "stream",
     "text": [
      "2 2000 10 60\n",
      "20\n"
     ]
    }
   ],
   "source": [
    "'''\n",
    "STEP 1: LOADING DATASET\n",
    "'''\n",
    "\n",
    "N = 1001\n",
    "xv = 0\n",
    "x_min = -15.\n",
    "x_max = 15.\n",
    "x_range = x_max - x_min\n",
    "v_min = -5.\n",
    "v_max = 5.\n",
    "v_range = v_max - v_min\n",
    "\n",
    "\n",
    "train_array = np.load('/Users/JawanHaider/Desktop/Research/1500/Code/Data/varpert_spiralsech2_rho_train_2000xv.npy')\n",
    "\n",
    "train_in_mean = np.transpose(train_array[0, :, :, :-1].mean(axis=2))\n",
    "mean_sub = np.transpose(train_array[0, :, :, :-1]) - train_in_mean\n",
    "train_in_var = np.transpose(train_array[0, :, :, :-1].std(axis=2))\n",
    "train_array[0, :, :, :-1] = np.transpose(mean_sub/   train_in_var    )\n",
    "\n",
    "train_out_mean = np.transpose(train_array[1, :, :, :-1].mean(axis=2))\n",
    "mean_sub = np.transpose(train_array[1, :, :, :-1]) - train_out_mean\n",
    "train_out_var = np.transpose(train_array[1, :, :, :-1].std(axis=2))\n",
    "train_array[1, :, :, :-1] = np.transpose(mean_sub/   train_out_var    )\n",
    "\n",
    "train_array = np.swapaxes(train_array, 1, 2)\n",
    "train_tensor = torch.Tensor(train_array)\n",
    "train_dataset = TensorDataset(train_tensor[0, :, :, :], train_tensor[1, :, :, :-1]) # create your datset\n",
    "\n",
    "\n",
    "\n",
    "test_array = np.load('/Users/JawanHaider/Desktop/Research/1500/Code/Data/varpert_spiralsech2_rho_test_10xv.npy')\n",
    "\n",
    "test_in_mean = np.transpose(test_array[0, :, :, :-1].mean(axis=2))\n",
    "mean_sub = np.transpose(test_array[0, :, :, :-1]) - test_in_mean\n",
    "test_in_var = np.transpose(test_array[0, :, :, :-1].std(axis=2))\n",
    "test_array[0, :, :, :-1] = np.transpose(mean_sub/   test_in_var    )\n",
    "\n",
    "test_out_mean = np.transpose(test_array[1, :, :, :-1].mean(axis=2))\n",
    "mean_sub = np.transpose(test_array[1, :, :, :-1]) - test_out_mean\n",
    "test_out_var = np.transpose(test_array[1, :, :, :-1].std(axis=2))\n",
    "test_array[1, :, :, :-1] = np.transpose(mean_sub/   test_out_var    )\n",
    "\n",
    "test_array = np.swapaxes(test_array, 1, 2)\n",
    "test_tensor = torch.Tensor(test_array)\n",
    "test_dataset = TensorDataset(test_tensor[0, :, :, :], test_tensor[1, :, :, :-1]) # create your datset\n",
    "\n",
    "\n",
    "\n",
    "deg_freedom = train_tensor[0, 0, :, 0].size()[0]\n",
    "train_size = train_tensor[0, :, 0, 0].size()[0]\n",
    "test_size = test_tensor[0, :, 0, 0].size()[0]\n",
    "num_datapoints = train_tensor[0, 0, 0, :].size()[0]-1\n",
    "train_amp = np.unique(train_array[0, :, 0, -1])\n",
    "\n",
    "\n",
    "print(deg_freedom, train_size, test_size, num_datapoints)\n",
    "print(train_amp.size)\n",
    "# tst = np.transpose( np.transpose(train_array[0, :, :, :])*np.transpose(train_in_var)+np.transpose(train_in_mean) )\n",
    "# print(tst.shape)\n",
    "# print(tst[999, 1, :])"
   ]
  },
  {
   "cell_type": "markdown",
   "metadata": {},
   "source": [
    "### STEP 2: MAKING DATASET ITERABLE"
   ]
  },
  {
   "cell_type": "code",
   "execution_count": 1,
   "metadata": {
    "tags": []
   },
   "outputs": [
    {
     "ename": "NameError",
     "evalue": "name 'train_size' is not defined",
     "output_type": "error",
     "traceback": [
      "\u001b[0;31m---------------------------------------------------------------------------\u001b[0m",
      "\u001b[0;31mNameError\u001b[0m                                 Traceback (most recent call last)",
      "\u001b[0;32m<ipython-input-1-67c926dd1a7a>\u001b[0m in \u001b[0;36m<module>\u001b[0;34m\u001b[0m\n\u001b[1;32m      4\u001b[0m \u001b[0;34m\u001b[0m\u001b[0m\n\u001b[1;32m      5\u001b[0m \u001b[0mbatch_size\u001b[0m \u001b[0;34m=\u001b[0m \u001b[0;36m100\u001b[0m\u001b[0;34m\u001b[0m\u001b[0;34m\u001b[0m\u001b[0m\n\u001b[0;32m----> 6\u001b[0;31m \u001b[0mnum_batches\u001b[0m \u001b[0;34m=\u001b[0m \u001b[0mtrain_size\u001b[0m\u001b[0;34m/\u001b[0m\u001b[0mbatch_size\u001b[0m\u001b[0;34m\u001b[0m\u001b[0;34m\u001b[0m\u001b[0m\n\u001b[0m\u001b[1;32m      7\u001b[0m \u001b[0mprint\u001b[0m\u001b[0;34m(\u001b[0m\u001b[0mnum_batches\u001b[0m\u001b[0;34m)\u001b[0m\u001b[0;34m\u001b[0m\u001b[0;34m\u001b[0m\u001b[0m\n\u001b[1;32m      8\u001b[0m \u001b[0;34m\u001b[0m\u001b[0m\n",
      "\u001b[0;31mNameError\u001b[0m: name 'train_size' is not defined"
     ]
    }
   ],
   "source": [
    "'''\n",
    "STEP 2: MAKING DATASET ITERABLE\n",
    "'''\n",
    "\n",
    "batch_size = 100\n",
    "num_batches = train_size/batch_size\n",
    "print(num_batches)\n",
    "\n",
    "n_iters = 10000\n",
    "\n",
    "num_epochs = n_iters / num_batches\n",
    "print(num_epochs)\n",
    "num_epochs = int(num_epochs)\n",
    "\n",
    "train_loader = DataLoader(dataset=train_dataset, \n",
    "                            batch_size=batch_size, \n",
    "                            shuffle=True)\n",
    "\n",
    "test_loader = DataLoader(dataset=test_dataset, \n",
    "                            batch_size=batch_size, \n",
    "                            shuffle=False)"
   ]
  },
  {
   "cell_type": "markdown",
   "metadata": {},
   "source": [
    "### STEP 3: CREATING MODEL CLASS"
   ]
  },
  {
   "cell_type": "code",
   "execution_count": 29,
   "metadata": {},
   "outputs": [],
   "source": [
    "'''\n",
    "STEP 3: CREATE MODEL CLASS\n",
    "'''\n",
    "\n",
    "class FeedforwardNeuralNetModel(nn.Module):\n",
    "    def __init__(self, input_dim, hidden_dim, output_dim):\n",
    "        super(FeedforwardNeuralNetModel, self).__init__()\n",
    "        # Linear function 1: 784 --> 100\n",
    "        self.fc1 = nn.Linear(input_dim, hidden_dim) \n",
    "        # Non-linearity 1\n",
    "        self.relu1 = nn.Tanh()\n",
    "        \n",
    "        # Linear function 2: 100 --> 100\n",
    "        self.fc2 = nn.Linear(hidden_dim, hidden_dim)\n",
    "        # Non-linearity 2\n",
    "        self.relu2 = nn.Tanh()\n",
    "\n",
    "        # Linear function 3: 100 --> 100\n",
    "        self.fc3 = nn.Linear(hidden_dim, hidden_dim)\n",
    "        # Non-linearity 3\n",
    "        self.relu3 = nn.Tanh()\n",
    "\n",
    "        # Linear function 4: 100 --> 100\n",
    "        self.fc4 = nn.Linear(hidden_dim, hidden_dim)\n",
    "        # Non-linearity 4\n",
    "        self.relu4 = nn.Tanh()\n",
    "        \n",
    "        # Linear function 5 (readout): 100 --> 10\n",
    "        self.fc5 = nn.Linear(hidden_dim, output_dim)  \n",
    "    \n",
    "    def forward(self, x):\n",
    "        # Linear function 1\n",
    "        out = self.fc1(x)\n",
    "        # Non-linearity 1\n",
    "        out = self.relu1(out)\n",
    "        \n",
    "        # Linear function 2\n",
    "        out = self.fc2(out)\n",
    "        # Non-linearity 2\n",
    "        out = self.relu2(out)\n",
    "        \n",
    "        # Linear function 3\n",
    "        out = self.fc3(out)\n",
    "        # Non-linearity 3\n",
    "        out = self.relu3(out)\n",
    "\n",
    "        # Linear function 4\n",
    "        out = self.fc4(out)\n",
    "        # Non-linearity 4\n",
    "        out = self.relu4(out)\n",
    "        \n",
    "        # Linear function 5 (readout)\n",
    "        out = self.fc5(out)\n",
    "\n",
    "        return out"
   ]
  },
  {
   "cell_type": "markdown",
   "metadata": {},
   "source": [
    "### STEP 4: INSTANTIATING MODEL CLASS"
   ]
  },
  {
   "cell_type": "code",
   "execution_count": 34,
   "metadata": {
    "tags": []
   },
   "outputs": [
    {
     "name": "stdout",
     "output_type": "stream",
     "text": [
      "121 1210 120\n"
     ]
    }
   ],
   "source": [
    "'''\n",
    "STEP 4: INSTANTIATE MODEL CLASS\n",
    "'''\n",
    "\n",
    "input_dim = 2*num_datapoints+1\n",
    "hidden_dim = input_dim*10\n",
    "output_dim = input_dim-1\n",
    "print(input_dim, hidden_dim, output_dim)\n",
    "\n",
    "model = FeedforwardNeuralNetModel(input_dim, hidden_dim, output_dim)"
   ]
  },
  {
   "cell_type": "markdown",
   "metadata": {},
   "source": [
    "### STEP 5: INSTANTIATING LOSS CLASS"
   ]
  },
  {
   "cell_type": "code",
   "execution_count": 35,
   "metadata": {},
   "outputs": [],
   "source": [
    "'''\n",
    "STEP 5: INSTANTIATE LOSS CLASS\n",
    "'''\n",
    "\n",
    "criterion = nn.MSELoss()"
   ]
  },
  {
   "cell_type": "markdown",
   "metadata": {},
   "source": [
    "### STEP 6: INSTANTIATING OPTIMIZER CLASS"
   ]
  },
  {
   "cell_type": "code",
   "execution_count": 36,
   "metadata": {},
   "outputs": [],
   "source": [
    "'''\n",
    "STEP 6: INSTANTIATE OPTIMIZER CLASS\n",
    "'''\n",
    "\n",
    "learning_rate = 0.1\n",
    "\n",
    "optimizer = torch.optim.SGD(model.parameters(), lr=learning_rate)"
   ]
  },
  {
   "cell_type": "markdown",
   "metadata": {},
   "source": [
    "### STEP 7: TRAINING THE MODEL"
   ]
  },
  {
   "cell_type": "code",
   "execution_count": 37,
   "metadata": {
    "tags": []
   },
   "outputs": [
    {
     "name": "stdout",
     "output_type": "stream",
     "text": [
      "Iteration: 2000. Loss: 0.0301356203854084. Train Accuracy: 79.31. Test Accuracy: 80.23666666666666\n",
      "Iteration: 4000. Loss: 0.025010686367750168. Train Accuracy: 80.41708333333334. Test Accuracy: 81.14083333333333\n",
      "Iteration: 6000. Loss: 0.023274093866348267. Train Accuracy: 80.74041666666666. Test Accuracy: 81.5425\n",
      "Iteration: 8000. Loss: 0.023273292928934097. Train Accuracy: 80.84958333333333. Test Accuracy: 81.6675\n",
      "Iteration: 10000. Loss: 0.022617846727371216. Train Accuracy: 81.0025. Test Accuracy: 81.68583333333333\n"
     ]
    }
   ],
   "source": [
    "'''\n",
    "STEP 7: TRAIN THE MODEL\n",
    "'''\n",
    "\n",
    "iter = 0\n",
    "train_predictions = np.empty((2, output_dim))\n",
    "# all_true_outputs = np.empty((0, output_dim))\n",
    "# all_model_outputs = np.empty((0, output_dim))\n",
    "\n",
    "for epoch in range(num_epochs):\n",
    "    # print(\"Epoch:\", epoch)\n",
    "    for i, (inputs, true_outputs) in enumerate(train_loader):\n",
    "        # print(\"i:\", i)\n",
    "        \n",
    "        inputs = Variable(inputs.view(-1, input_dim+1))\n",
    "        temp = inputs.detach().numpy()\n",
    "        temp = np.delete(temp, 60, axis=1)\n",
    "        inputs = torch.tensor(temp)\n",
    "        inputs = Variable(inputs)\n",
    "\n",
    "        true_outputs = Variable(true_outputs.view(-1, output_dim))\n",
    "        \n",
    "        # Clear gradients w.r.t. parameters\n",
    "        optimizer.zero_grad()\n",
    "        \n",
    "        # Forward pass to get output/logits\n",
    "        model_outputs = model(inputs)\n",
    "        \n",
    "        # Calculate Loss: softmax --> cross entropy loss\n",
    "        loss = criterion(model_outputs, true_outputs)\n",
    "        \n",
    "        # Getting gradients w.r.t. parameters\n",
    "        loss.backward()\n",
    "        \n",
    "        # Updating parameters\n",
    "        optimizer.step()\n",
    "        \n",
    "        iter += 1\n",
    "        \n",
    "        if iter % 2000 == 0:\n",
    "\n",
    "\n",
    "            # Calculate Train Accuracy         \n",
    "            correct = 0\n",
    "            total = 0\n",
    "            # Iterate through train dataset\n",
    "            for inputs, true_outputs in train_loader:\n",
    "                inputs = Variable(inputs.view(-1, input_dim+1))\n",
    "                temp = inputs.detach().numpy()\n",
    "                temp = np.delete(temp, 60, axis=1)\n",
    "                inputs = torch.tensor(temp)\n",
    "                inputs = Variable(inputs)\n",
    "\n",
    "                true_outputs = Variable(true_outputs.view(-1, output_dim))\n",
    "\n",
    "                # Forward pass only to get logits/output\n",
    "                model_outputs = model(inputs)\n",
    "\n",
    "                # Total number of true_outputs\n",
    "                total += true_outputs.nelement()\n",
    "\n",
    "                nppredicted = model_outputs.detach().numpy()\n",
    "                nptrue = true_outputs.numpy()\n",
    "                size = np.size(nptrue, 0)\n",
    "\n",
    "                for j in range(size):\n",
    "                    predicted = nppredicted[j,:]\n",
    "                    true = nptrue[j,:]\n",
    "\n",
    "                    # Total correct predictions\n",
    "                    correct += (np.isclose(predicted, true, rtol=0.2)).sum()\n",
    "            \n",
    "            train_predictions[0, :] = true\n",
    "            train_predictions[1, :] = predicted\n",
    "\n",
    "            train_accuracy = 100 * correct / total\n",
    "\n",
    "\n",
    "\n",
    "\n",
    "            # Calculate Test Accuracy         \n",
    "            correct = 0\n",
    "            total = 0\n",
    "            # Iterate through test dataset\n",
    "            for inputs, true_outputs in test_loader:\n",
    "                inputs = Variable(inputs.view(-1, input_dim+1))\n",
    "                temp = inputs.detach().numpy()\n",
    "                temp = np.delete(temp, 60, axis=1)\n",
    "                inputs = torch.tensor(temp)\n",
    "                inputs = Variable(inputs)\n",
    "\n",
    "                true_outputs = Variable(true_outputs.view(-1, output_dim))\n",
    "\n",
    "                # Forward pass only to get logits/output\n",
    "                model_outputs = model(inputs)\n",
    "\n",
    "                # Total number of true_outputs\n",
    "                total += true_outputs.nelement()\n",
    "\n",
    "                nppredicted = model_outputs.detach().numpy()\n",
    "                nptrue = true_outputs.numpy()\n",
    "                size = np.size(nptrue, 0)\n",
    "\n",
    "                for j in range(size):\n",
    "                    predicted = nppredicted[j,:]\n",
    "                    true = nptrue[j,:]\n",
    "\n",
    "                    # Total correct predictions\n",
    "                    correct += (np.isclose(predicted, true, rtol=0.2)).sum()\n",
    "            \n",
    "            test_accuracy = 100 * correct / total\n",
    "\n",
    "\n",
    "\n",
    "\n",
    "            # Print Loss\n",
    "            print('Iteration: {}. Loss: {}. Train Accuracy: {}. Test Accuracy: {}'.format(iter, loss.data, train_accuracy, test_accuracy))\n",
    "            \n",
    "    start_time = time.time()\n",
    "    main()\n",
    "\n",
    "print(\"--- %s seconds ---\" % (time.time() - start_time))"
   ]
  },
  {
   "cell_type": "markdown",
   "metadata": {},
   "source": [
    "### STEP 8: TESTING THE MODEL "
   ]
  },
  {
   "cell_type": "code",
   "execution_count": 149,
   "metadata": {
    "tags": []
   },
   "outputs": [
    {
     "name": "stdout",
     "output_type": "stream",
     "text": [
      "Batch: 1. Loss: 0.02730717323720455.\n",
      "\n",
      "Runtime of the program is 0.010293960571289062 seconds\n"
     ]
    }
   ],
   "source": [
    "'''\n",
    "STEP 8: TESTING THE MODEL\n",
    "'''\n",
    "\n",
    "input_array = np.empty((0, input_dim))\n",
    "output_array = np.empty((0, output_dim))\n",
    "target_array = np.empty((0, output_dim))\n",
    "\n",
    "start = time.time()\n",
    "\n",
    "iter = 0\n",
    "# Iterate through test dataset\n",
    "for inputs, true_outputs in test_loader:\n",
    "    iter += 1\n",
    "    \n",
    "    inputs = Variable(inputs.view(-1, input_dim+1))\n",
    "    temp = inputs.detach().numpy()\n",
    "    temp = np.delete(temp, 60, axis=1)\n",
    "    inputs = torch.tensor(temp)\n",
    "    inputs = Variable(inputs)\n",
    "    \n",
    "    true_outputs = Variable(true_outputs.view(-1, output_dim))\n",
    "\n",
    "    # Forward pass only to get logits/output\n",
    "    model_outputs = model(inputs)\n",
    "\n",
    "    loss = criterion(model_outputs, true_outputs)\n",
    "    \n",
    "    npinputs = inputs.detach().numpy()\n",
    "    input_array = np.concatenate((input_array, npinputs))\n",
    "\n",
    "    npoutputs = model_outputs.detach().numpy()\n",
    "    output_array = np.concatenate((output_array, npoutputs))\n",
    "\n",
    "    nptargets = true_outputs.detach().numpy()\n",
    "    target_array = np.concatenate((target_array, nptargets))\n",
    "    \n",
    "    print('Batch: {}. Loss: {}.'.format(iter, loss.data))\n",
    "\n",
    "end = time.time()\n",
    "\n",
    "print(f\"\\nRuntime of the program is {end - start} seconds\")"
   ]
  },
  {
   "cell_type": "markdown",
   "metadata": {},
   "source": [
    "### STEP 9: DENORMALIZING THE DATA"
   ]
  },
  {
   "cell_type": "code",
   "execution_count": 150,
   "metadata": {},
   "outputs": [],
   "source": [
    "'''\n",
    "STEP 9: DENORMALIZING THE DATA\n",
    "'''\n",
    "\n",
    "target_array = np.reshape(target_array, (test_size, 2, 60))\n",
    "output_array = np.reshape(output_array, (test_size, 2, 60))\n",
    "amp = input_array[:, -1]\n",
    "test_amp = np.unique(amp)\n",
    "input_array = np.delete(input_array, -1, axis=1)\n",
    "input_array = np.reshape(input_array, (test_size, 2, 60))\n",
    "\n",
    "\n",
    "target_array = np.transpose(target_array) * np.transpose(test_out_var) \n",
    "target_array = np.transpose( target_array + np.transpose(test_out_mean) )\n",
    "target_array[target_array < 0] = 0\n",
    "\n",
    "output_array = np.transpose(output_array) * np.transpose(test_out_var)\n",
    "output_array = np.transpose( output_array + np.transpose(test_out_mean) )\n",
    "output_array[output_array < 0] = 0\n",
    "\n",
    "input_array = np.transpose(input_array) * np.transpose(test_in_var)\n",
    "input_array = np.transpose( input_array + np.transpose(test_in_mean) )\n",
    "input_array[input_array < 0] = 0"
   ]
  },
  {
   "cell_type": "markdown",
   "metadata": {},
   "source": [
    "### STEP 10: PLOTTING THE RESULTS"
   ]
  },
  {
   "cell_type": "code",
   "execution_count": 151,
   "metadata": {},
   "outputs": [
    {
     "name": "stdout",
     "output_type": "stream",
     "text": [
      "[0.000000 0.300000 0.600000 0.900000 1.200000 1.500000 1.800000 2.100000\n",
      " 2.400000 2.700000 3.000000 3.300000 3.600000 3.900000 4.200000 4.500000\n",
      " 4.800000 5.100000 5.400000 5.700000] \n",
      "\n",
      " [0.000000 0.500000 1.000000 1.500000 2.000000 2.500000 3.000000 3.500000\n",
      " 4.000000 4.500000]\n"
     ]
    }
   ],
   "source": [
    "print(train_amp, \"\\n\\n\", test_amp)"
   ]
  },
  {
   "cell_type": "code",
   "execution_count": 159,
   "metadata": {},
   "outputs": [
    {
     "data": {
      "text/plain": [
       "Text(0, 0.5, '$\\\\rho(x)$')"
      ]
     },
     "execution_count": 159,
     "metadata": {},
     "output_type": "execute_result"
    },
    {
     "data": {
      "image/png": "[encoded data removed]",
      "text/plain": [
       "<Figure size 1800x720 with 2 Axes>"
      ]
     },
     "metadata": {
      "needs_background": "light"
     },
     "output_type": "display_data"
    }
   ],
   "source": [
    "'''\n",
    "STEP 10: PLOTTING THE RESULTS\n",
    "'''\n",
    "\n",
    "fig, (ax1, ax2) = subplots(1, 2, figsize=(25,10))\n",
    "\n",
    "datapoint = 9\n",
    "xv = 0\n",
    "width = x_range/num_datapoints\n",
    "bins = np.linspace(x_min, x_max, num=num_datapoints, endpoint=False)\n",
    "\n",
    "fig.suptitle('Perturbation Amplitude: %f' %amp[datapoint], fontsize=25)\n",
    "\n",
    "ax1.bar(bins, input_array[datapoint, xv, :], width=width, lw=2., ec='k', fill=False, align='edge', label='Input')\n",
    "ax1.bar(bins, output_array[datapoint, xv, :], width=width, lw=3., ec='b', fill=False, align='edge', label='FNN Prediction')\n",
    "ax1.bar(bins, target_array[datapoint, xv, :], width=width, lw=3., ec='g', fill=False, align='edge', label='Target')\n",
    "ax1.legend()\n",
    "ax1.set_xlim(x_min, x_max)\n",
    "ax1.set_xlabel(r'$x$')\n",
    "ax1.set_ylabel(r'$\\rho(x)$')\n",
    "\n",
    "xv = 1\n",
    "width = v_range/num_datapoints\n",
    "bins = np.linspace(v_min, v_max, num=num_datapoints, endpoint=False)\n",
    "\n",
    "ax2.bar(bins, input_array[datapoint, xv, :], width=width, lw=2., ec='k', fill=False, align='edge', label='Input')\n",
    "ax2.bar(bins, output_array[datapoint, xv, :], width=width, lw=3., ec='b', fill=False, align='edge', label='FNN Prediction')\n",
    "ax2.bar(bins, target_array[datapoint, xv, :], width=width, lw=3., ec='g', fill=False, align='edge', label='Target')\n",
    "ax2.legend()\n",
    "ax2.set_xlim(v_min, v_max)\n",
    "ax2.set_xlabel(r'$v$')\n",
    "ax2.set_ylabel(r'$\\rho(x)$')"
   ]
  },
  {
   "cell_type": "markdown",
   "metadata": {},
   "source": [
    "### STEP 11: MEASURING PERFORMANCE"
   ]
  },
  {
   "cell_type": "code",
   "execution_count": 141,
   "metadata": {},
   "outputs": [
    {
     "name": "stdout",
     "output_type": "stream",
     "text": [
      "Relative error: 3.2 %\n",
      "[inf inf 0.088298 0.104643 0.181094 0.029793 0.062590 inf 0.077702\n",
      " 0.030811 0.076305 0.051460 inf inf inf 0.086591 inf 0.192299 inf 0.070007\n",
      " 0.078709 inf 0.045300 0.040989 0.043680 0.024578 0.165023 inf 0.097440\n",
      " inf 0.133088 0.185988 0.042341 0.116860 inf inf inf inf 0.163470 0.259936\n",
      " inf inf inf 0.044054 inf inf inf inf 0.084943 inf inf 0.092040 0.025745\n",
      " 0.119410 inf inf 0.123861 0.079199 0.119371 inf inf 0.059090 0.061073 inf\n",
      " 0.111817 0.218200 0.097216 0.095095 0.135101 inf inf inf inf 0.103143\n",
      " 0.076432 inf 0.172811 inf 0.041482 0.097840 inf 0.104042 inf inf inf\n",
      " 0.042590 inf inf inf inf inf inf inf 0.074819 0.057115 0.039439 0.048792\n",
      " 0.054722 0.074382 inf inf 0.156202 0.192528 0.055788 inf inf inf 0.070694\n",
      " 0.056989 0.059053 0.163778 inf 0.178681 inf 0.025370 0.035924 0.040099\n",
      " 0.147151 inf inf 0.071773 0.055342 inf 0.065866 inf 0.103138 0.056003 inf\n",
      " inf 0.019287 0.023944 0.041032 inf inf inf 0.075674 0.129932 inf inf\n",
      " 0.152448 0.029465 inf inf inf inf 0.126715 inf 0.093961 0.019673 inf\n",
      " 0.188171 inf inf 0.085629 0.113780 inf 0.124640 inf 0.057844 inf 0.113836\n",
      " inf inf inf inf 0.051014 0.229430 inf 0.032542 inf inf 0.239490 0.166644\n",
      " inf 0.175743 inf inf 0.089408 inf inf inf inf 0.169945 0.054878 inf inf\n",
      " inf 0.100090 inf inf inf inf inf inf inf inf inf 0.123703 0.045449 inf\n",
      " inf 0.066480 inf 0.031265 0.108579 0.068152 inf 0.027482 0.074396 inf\n",
      " 0.028850 inf 0.071162 inf 0.029053 inf inf inf 0.064120 inf 0.125996 inf\n",
      " inf inf 0.030938 inf 0.066682 0.039091 inf inf 0.069519 inf inf 0.115397\n",
      " 0.029400 inf 0.040537 inf 0.055407 inf 0.024209 inf 0.043445 inf inf inf\n",
      " inf 0.153869 0.046251 inf inf 0.247257 inf 0.134874 inf 0.200139 inf inf\n",
      " inf inf 0.145384 0.039183 0.062553 0.084762 0.086919 0.043630 0.164674\n",
      " 0.154753 inf 0.080657 inf inf inf inf 0.030025 0.164885 0.279974 0.320052\n",
      " inf 0.042549 inf 0.168856 0.221470 inf inf 0.129943 0.185964 0.051676\n",
      " 0.046661 inf inf inf inf 0.106840 inf 0.030098 inf inf 0.209881 0.044732\n",
      " inf inf 0.035854 inf inf 0.052714 inf 0.036478 inf inf 0.180038 0.165002\n",
      " inf inf 0.039406 0.072779 0.020446 inf inf 0.045727 0.056492 0.038889 inf\n",
      " 0.027539 0.050737 0.019656 0.074658 0.034982 inf inf 0.161297 0.024111\n",
      " inf 0.056182 0.129581 inf 0.121836 inf inf 0.165409 0.052533 inf 0.061319\n",
      " inf 0.046673 inf 0.168394 inf 0.107958 0.043466 inf inf inf inf inf inf\n",
      " inf inf 0.056130 0.106685 inf 0.048704 inf 0.077925 inf 0.028604 0.078082\n",
      " 0.027186 0.039509 inf inf inf inf 0.139258 inf inf inf 0.030657 0.056432\n",
      " 0.145683 inf 0.092760 inf 0.021603 0.031539 0.193741 inf inf 0.288362 inf\n",
      " inf inf 0.153661 0.136236 inf inf inf inf 0.211294 inf inf inf inf\n",
      " 0.034931 0.029428 inf inf inf inf inf 0.188379 0.264535 inf inf 0.114602\n",
      " 0.093521 inf inf 0.181822 0.068682 inf 0.258317 0.248818 0.223206\n",
      " 0.233466 0.112604 inf inf 0.165198 inf inf 0.145874 0.358219 0.226174\n",
      " 0.194341 inf 0.063515 inf 0.132624 inf 0.359907 inf inf inf 0.155043\n",
      " 0.237097 inf 0.058860 0.371183 inf inf 0.308747 inf 0.322381 0.069599 inf\n",
      " inf 0.227311 inf inf inf inf inf 0.362771 inf inf 0.053865 inf 0.179329\n",
      " 0.221545 inf 0.341780 inf inf inf inf inf inf 0.157859 inf inf inf inf\n",
      " 0.404884 inf 0.352583 inf inf inf inf 0.385759 0.404388 inf inf inf\n",
      " 0.296670 inf 0.412269 0.452191 0.393226]\n"
     ]
    }
   ],
   "source": [
    "'''\n",
    "STEP 11: MEASURING PERFORMANCE\n",
    "'''\n",
    "\n",
    "output_array_flt = output_array.flatten()\n",
    "target_array_flt  = target_array.flatten()\n",
    "\n",
    "rel_err = np.empty(test_size)\n",
    "\n",
    "for i in range(test_size):\n",
    "    if target_array_flt[i]==0 or output_array_flt[i]!=0:\n",
    "        rel_err[i] = 0\n",
    "    else:\n",
    "        rel_err[i] = np.abs(output_array_flt[i]-target_array_flt[i])/(target_array_flt[i])\n",
    "\n",
    "print(\"Relative error:\", rel_err.mean()*100, \"%\")\n",
    "\n",
    "# xv=1\n",
    "# print(stats.kstest(output_array[200, xv, :], target_array[200, xv, :]))\n",
    "# print(stats.ks_2samp(output_array[200, xv, :], target_array[200, xv, :]))\n",
    "\n",
    "kl_div = stats.entropy( np.transpose(output_array[:, 1, :]), np.transpose(target_array[:, 1, :]) )\n",
    "print(kl_div)"
   ]
  }
 ],
 "metadata": {
  "kernelspec": {
   "display_name": "learnsim",
   "language": "python",
   "name": "learnsim"
  },
  "language_info": {
   "codemirror_mode": {
    "name": "ipython",
    "version": 3
   },
   "file_extension": ".py",
   "mimetype": "text/x-python",
   "name": "python",
   "nbconvert_exporter": "python",
   "pygments_lexer": "ipython3",
   "version": "3.8.3"
  }
 },
 "nbformat": 4,
 "nbformat_minor": 4
}
