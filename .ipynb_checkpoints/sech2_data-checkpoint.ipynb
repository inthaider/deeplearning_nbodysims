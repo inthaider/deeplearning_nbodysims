{
 "cells": [
  {
   "cell_type": "markdown",
   "metadata": {},
   "source": [
    "# Generating NN Datasets for Unperturbed $\\mathrm{sech}^2$ Disc"
   ]
  },
  {
   "cell_type": "code",
   "execution_count": 2,
   "metadata": {
    "tags": []
   },
   "outputs": [
    {
     "output_type": "stream",
     "name": "stdout",
     "text": "Populating the interactive namespace from numpy and matplotlib\n"
    }
   ],
   "source": [
    "import numpy\n",
    "import scipy\n",
    "from tqdm import trange\n",
    "import galpy\n",
    "from galpy.orbit import Orbit\n",
    "from galpy.potential import MWPotential2014\n",
    "from galpy.potential import HernquistPotential\n",
    "import galpy.potential as pot\n",
    "import wendy\n",
    "%pylab inline\n",
    "import matplotlib.animation as animation\n",
    "from matplotlib import cm\n",
    "from IPython.display import HTML\n",
    "_SAVE_GIFS= False\n",
    "rcParams.update({'axes.labelsize': 17.,\n",
    "              'font.size': 12.,\n",
    "              'legend.fontsize': 17.,\n",
    "              'xtick.labelsize':15.,\n",
    "              'ytick.labelsize':15.,\n",
    "              'text.usetex': _SAVE_GIFS,\n",
    "              'figure.figsize': [5,5],\n",
    "              'xtick.major.size' : 4,\n",
    "              'ytick.major.size' : 4,\n",
    "              'xtick.minor.size' : 2,\n",
    "              'ytick.minor.size' : 2,\n",
    "              'legend.numpoints':1})"
   ]
  },
  {
   "cell_type": "code",
   "execution_count": 2,
   "metadata": {
    "scrolled": false
   },
   "outputs": [
    {
     "name": "stderr",
     "output_type": "stream",
     "text": [
      "Training data progress:   0%|          | 1/2000 [00:04<2:24:29,  4.34s/it]\n"
     ]
    },
    {
     "ename": "KeyboardInterrupt",
     "evalue": "",
     "output_type": "error",
     "traceback": [
      "\u001b[0;31m---------------------------------------------------------------------------\u001b[0m",
      "\u001b[0;31mKeyboardInterrupt\u001b[0m                         Traceback (most recent call last)",
      "\u001b[0;32m<ipython-input-2-e882256193a2>\u001b[0m in \u001b[0;36m<module>\u001b[0;34m\u001b[0m\n\u001b[1;32m     27\u001b[0m     \u001b[0menergy\u001b[0m\u001b[0;34m[\u001b[0m\u001b[0mj\u001b[0m\u001b[0;34m,\u001b[0m \u001b[0;36m0\u001b[0m\u001b[0;34m]\u001b[0m\u001b[0;34m=\u001b[0m \u001b[0mwendy\u001b[0m\u001b[0;34m.\u001b[0m\u001b[0menergy\u001b[0m\u001b[0;34m(\u001b[0m\u001b[0mx\u001b[0m\u001b[0;34m,\u001b[0m\u001b[0mv\u001b[0m\u001b[0;34m,\u001b[0m\u001b[0mm\u001b[0m\u001b[0;34m)\u001b[0m\u001b[0;34m\u001b[0m\u001b[0;34m\u001b[0m\u001b[0m\n\u001b[1;32m     28\u001b[0m     \u001b[0;32mfor\u001b[0m \u001b[0mii\u001b[0m \u001b[0;32min\u001b[0m \u001b[0marange\u001b[0m\u001b[0;34m(\u001b[0m\u001b[0mnt\u001b[0m\u001b[0;34m)\u001b[0m\u001b[0;34m:\u001b[0m\u001b[0;34m\u001b[0m\u001b[0;34m\u001b[0m\u001b[0m\n\u001b[0;32m---> 29\u001b[0;31m         \u001b[0mtx\u001b[0m\u001b[0;34m,\u001b[0m\u001b[0mtv\u001b[0m\u001b[0;34m,\u001b[0m\u001b[0mncoll\u001b[0m\u001b[0;34m,\u001b[0m \u001b[0m_\u001b[0m\u001b[0;34m=\u001b[0m \u001b[0mnext\u001b[0m\u001b[0;34m(\u001b[0m\u001b[0mg\u001b[0m\u001b[0;34m)\u001b[0m\u001b[0;34m\u001b[0m\u001b[0;34m\u001b[0m\u001b[0m\n\u001b[0m\u001b[1;32m     30\u001b[0m         \u001b[0menergy\u001b[0m\u001b[0;34m[\u001b[0m\u001b[0mj\u001b[0m\u001b[0;34m,\u001b[0m \u001b[0mii\u001b[0m\u001b[0;34m+\u001b[0m\u001b[0;36m1\u001b[0m\u001b[0;34m]\u001b[0m\u001b[0;34m=\u001b[0m \u001b[0mwendy\u001b[0m\u001b[0;34m.\u001b[0m\u001b[0menergy\u001b[0m\u001b[0;34m(\u001b[0m\u001b[0mtx\u001b[0m\u001b[0;34m,\u001b[0m\u001b[0mtv\u001b[0m\u001b[0;34m,\u001b[0m\u001b[0mm\u001b[0m\u001b[0;34m)\u001b[0m\u001b[0;34m\u001b[0m\u001b[0;34m\u001b[0m\u001b[0m\n\u001b[1;32m     31\u001b[0m \u001b[0;34m\u001b[0m\u001b[0m\n",
      "\u001b[0;32m~/opt/anaconda3/envs/learnsim/lib/python3.8/site-packages/wendy/wendy.py\u001b[0m in \u001b[0;36mnbody\u001b[0;34m(x, v, m, dt, t0, twopiG, omega, ext_force, approx, nleap, sort, maxcoll, warn_maxcoll, full_output)\u001b[0m\n\u001b[1;32m    177\u001b[0m     \u001b[0;32mwhile\u001b[0m \u001b[0;32mTrue\u001b[0m\u001b[0;34m:\u001b[0m\u001b[0;34m\u001b[0m\u001b[0;34m\u001b[0m\u001b[0m\n\u001b[1;32m    178\u001b[0m         \u001b[0;32mif\u001b[0m \u001b[0momega\u001b[0m \u001b[0;32mis\u001b[0m \u001b[0;32mNone\u001b[0m\u001b[0;34m:\u001b[0m\u001b[0;34m\u001b[0m\u001b[0;34m\u001b[0m\u001b[0m\n\u001b[0;32m--> 179\u001b[0;31m             _wendy_nbody_onestep_func(len(x),\n\u001b[0m\u001b[1;32m    180\u001b[0m                                       \u001b[0mx\u001b[0m\u001b[0;34m,\u001b[0m\u001b[0mv\u001b[0m\u001b[0;34m,\u001b[0m\u001b[0ma\u001b[0m\u001b[0;34m,\u001b[0m\u001b[0mm\u001b[0m\u001b[0;34m,\u001b[0m\u001b[0msindx\u001b[0m\u001b[0;34m,\u001b[0m\u001b[0mctypes\u001b[0m\u001b[0;34m.\u001b[0m\u001b[0mbyref\u001b[0m\u001b[0;34m(\u001b[0m\u001b[0mcindx\u001b[0m\u001b[0;34m)\u001b[0m\u001b[0;34m,\u001b[0m\u001b[0;34m\u001b[0m\u001b[0;34m\u001b[0m\u001b[0m\n\u001b[1;32m    181\u001b[0m                                       \u001b[0mctypes\u001b[0m\u001b[0;34m.\u001b[0m\u001b[0mbyref\u001b[0m\u001b[0;34m(\u001b[0m\u001b[0mnext_tcoll\u001b[0m\u001b[0;34m)\u001b[0m\u001b[0;34m,\u001b[0m\u001b[0;34m\u001b[0m\u001b[0;34m\u001b[0m\u001b[0m\n",
      "\u001b[0;31mKeyboardInterrupt\u001b[0m: "
     ]
    }
   ],
   "source": [
    "train_size = 2000\n",
    "N= 1001\n",
    "nt= 500\n",
    "\n",
    "# size of training data, x or v (0 or 1), no. of slabs, initial or final (0 or 1)\n",
    "train = numpy.empty((train_size, 2, N, 2))\n",
    "energy = numpy.empty((train_size, nt+1))\n",
    "\n",
    "for j in trange(train_size, desc='Training data progress'):\n",
    "    \n",
    "    numpy.random.seed(j)\n",
    "    \n",
    "    # compute zh based on sigma and totmass\n",
    "    totmass= 1. # Sigma above\n",
    "    sigma= 1.\n",
    "    zh= sigma**2./totmass # twopiG = 1. in our units\n",
    "    tdyn= zh/sigma\n",
    "    x= numpy.arctanh(2.*numpy.random.uniform(size=N)-1)*zh*2.\n",
    "    v= numpy.random.normal(size=N)*sigma\n",
    "    v-= numpy.mean(v) # stabilize\n",
    "    m= numpy.ones_like(x)/N#*(1.+0.1*(2.*numpy.random.uniform(size=N)-1))\n",
    "    \n",
    "    g= wendy.nbody(x,v,m,0.05*tdyn,maxcoll=10000000,full_output=True)\n",
    "    \n",
    "    train[j, 0, :, 0]= x\n",
    "    train[j, 1, :, 0]= v\n",
    "    energy[j, 0]= wendy.energy(x,v,m)\n",
    "    for ii in arange(nt):\n",
    "        tx,tv,ncoll, _= next(g)\n",
    "        energy[j, ii+1]= wendy.energy(tx,tv,m)\n",
    "        \n",
    "    train[j, 0, :, 1]= tx\n",
    "    train[j, 1, :, 1]= tv"
   ]
  },
  {
   "cell_type": "code",
   "execution_count": 21,
   "metadata": {},
   "outputs": [],
   "source": [
    "np.save('sech2_fullsim_train_5000', train)"
   ]
  },
  {
   "cell_type": "code",
   "execution_count": null,
   "metadata": {},
   "outputs": [],
   "source": [
    "train_size = 500\n",
    "N= 601\n",
    "nt= 500\n",
    "\n",
    "test = numpy.empty((test_size, 2, N, 2))\n",
    "energy = numpy.empty((test_size, nt+1))\n",
    "\n",
    "for j in trange(test_size, desc='Test data progress'):\n",
    "    \n",
    "    numpy.random.seed(j+5000)\n",
    "    \n",
    "    # compute zh based on sigma and totmass\n",
    "    totmass= 1. # Sigma above\n",
    "    sigma= 1.\n",
    "    zh= sigma**2./totmass # twopiG = 1. in our units\n",
    "    tdyn= zh/sigma\n",
    "    x= numpy.arctanh(2.*numpy.random.uniform(size=N)-1)*zh*2.\n",
    "    v= numpy.random.normal(size=N)*sigma\n",
    "    v-= numpy.mean(v) # stabilize\n",
    "    m= numpy.ones_like(x)/N#*(1.+0.1*(2.*numpy.random.uniform(size=N)-1))\n",
    "    \n",
    "    g= wendy.nbody(x,v,m,0.05*tdyn,maxcoll=10000000,full_output=True)\n",
    "    \n",
    "    test[j, 0, :, 0]= x\n",
    "    test[j, 1, :, 0]= v\n",
    "    energy[j, 0]= wendy.energy(x,v,m)\n",
    "    for ii in arange(nt):\n",
    "        tx,tv,ncoll, _= next(g)\n",
    "        energy[j, ii+1]= wendy.energy(tx,tv,m)\n",
    "        \n",
    "    test[j, 0, :, 1]= tx\n",
    "    test[j, 1, :, 1]= tv\n",
    "        "
   ]
  },
  {
   "cell_type": "code",
   "execution_count": 23,
   "metadata": {},
   "outputs": [],
   "source": [
    "np.save('sech2_fullsim_test_1000', test)\n"
   ]
  },
  {
   "cell_type": "code",
   "execution_count": null,
   "metadata": {},
   "outputs": [],
   "source": []
  },
  {
   "cell_type": "code",
   "execution_count": null,
   "metadata": {},
   "outputs": [],
   "source": []
  },
  {
   "cell_type": "code",
   "execution_count": null,
   "metadata": {},
   "outputs": [],
   "source": []
  },
  {
   "cell_type": "code",
   "execution_count": null,
   "metadata": {},
   "outputs": [],
   "source": []
  },
  {
   "cell_type": "code",
   "execution_count": 33,
   "metadata": {},
   "outputs": [],
   "source": [
    "test_outputs = np.load('sech2_test_outputs.npy')\n",
    "test_targets = np.load('sech2_test_targets.npy')"
   ]
  },
  {
   "cell_type": "code",
   "execution_count": 34,
   "metadata": {},
   "outputs": [
    {
     "name": "stdout",
     "output_type": "stream",
     "text": [
      "(500, 2, 1001)\n"
     ]
    }
   ],
   "source": [
    "print(test_outputs.shape)"
   ]
  },
  {
   "cell_type": "code",
   "execution_count": 36,
   "metadata": {},
   "outputs": [
    {
     "data": {
      "text/plain": [
       "<matplotlib.collections.PathCollection at 0x7fb084a0dd90>"
      ]
     },
     "execution_count": 36,
     "metadata": {},
     "output_type": "execute_result"
    },
    {
     "data": {
      "image/png": "[encoded data removed]",
      "text/plain": [
       "<Figure size 360x360 with 1 Axes>"
      ]
     },
     "metadata": {
      "needs_background": "light"
     },
     "output_type": "display_data"
    }
   ],
   "source": [
    "plt.figure()\n",
    "plt.scatter(test_targets[1, 0, :], test_targets[1, 1, :])"
   ]
  },
  {
   "cell_type": "code",
   "execution_count": 37,
   "metadata": {},
   "outputs": [
    {
     "data": {
      "text/plain": [
       "<matplotlib.collections.PathCollection at 0x7fb084a1d2b0>"
      ]
     },
     "execution_count": 37,
     "metadata": {},
     "output_type": "execute_result"
    },
    {
     "data": {
      "image/png": "[encoded data removed]",
      "text/plain": [
       "<Figure size 360x360 with 1 Axes>"
      ]
     },
     "metadata": {
      "needs_background": "light"
     },
     "output_type": "display_data"
    }
   ],
   "source": [
    "plt.figure()\n",
    "plt.scatter(test_outputs[1, 0, :], test_outputs[1, 1, :])"
   ]
  },
  {
   "cell_type": "code",
   "execution_count": 38,
   "metadata": {},
   "outputs": [
    {
     "data": {
      "image/png": "[encoded data removed]",
      "text/plain": [
       "<Figure size 360x360 with 1 Axes>"
      ]
     },
     "metadata": {
      "needs_background": "light"
     },
     "output_type": "display_data"
    }
   ],
   "source": [
    "fig, ax= subplots()\n",
    "\n",
    "ax.hist(test_outputs[1, 0, :], bins=50, histtype='step', lw=1., color='k', range=[-8.,8.])\n",
    "ax.hist(test_targets[1, 0, :], bins=50, histtype='step', lw=2., color='b', range=[-8.,8.])\n",
    "ax.set_xlim(-8., 8.)\n",
    "ax.set_xlabel(r'$x$')\n",
    "ax.set_ylabel(r'$\\rho(x)$')\n",
    "ax.set_yscale('log')"
   ]
  },
  {
   "cell_type": "code",
   "execution_count": 39,
   "metadata": {},
   "outputs": [
    {
     "data": {
      "text/plain": [
       "1001000"
      ]
     },
     "execution_count": 39,
     "metadata": {},
     "output_type": "execute_result"
    }
   ],
   "source": [
    "test_targets.size"
   ]
  },
  {
   "cell_type": "code",
   "execution_count": 40,
   "metadata": {},
   "outputs": [
    {
     "name": "stdout",
     "output_type": "stream",
     "text": [
      "54.82\n"
     ]
    }
   ],
   "source": [
    "# Calculate Test Accuracy \n",
    "size = np.size(test_outputs, 0)\n",
    "n_bins = 10\n",
    "correct = 0\n",
    "total = 0\n",
    "\n",
    "model_xdensity = np.array([])\n",
    "true_xdensity = np.array([])\n",
    "\n",
    "# Iterate through test dataset\n",
    "for i in range(size):\n",
    "    model_outputs, bins = np.histogram(test_outputs[i, 0, :], bins = n_bins, range=[-8.,8.])\n",
    "    true_outputs, bins = np.histogram(test_targets[i, 0, :], bins = n_bins, range=[-8.,8.])\n",
    "    \n",
    "    model_xdensity = np.concatenate([model_xdensity, model_outputs])\n",
    "    true_xdensity = np.concatenate([true_xdensity, true_outputs])\n",
    "    # Total number of true_outputs\n",
    "    total += true_outputs.size\n",
    "\n",
    "    # Total correct predictions\n",
    "    correct += (np.isclose(model_outputs, true_outputs, rtol=0.28)).sum()\n",
    "\n",
    "    \n",
    "test_accuracy = 100 * correct / total\n",
    "print(test_accuracy)"
   ]
  },
  {
   "cell_type": "code",
   "execution_count": 41,
   "metadata": {},
   "outputs": [
    {
     "data": {
      "text/plain": [
       "3372.6910809406904"
      ]
     },
     "execution_count": 41,
     "metadata": {},
     "output_type": "execute_result"
    }
   ],
   "source": [
    "rel_err = np.empty(model_xdensity.size)\n",
    "for i in range(model_xdensity.size):\n",
    "    if true_xdensity[i]==0 and model_xdensity[i]!=0:\n",
    "        rel_err[i] = np.abs(model_xdensity[i]-true_xdensity[i])/(model_xdensity[i])\n",
    "    elif model_xdensity[i]==0 and true_xdensity[i]==0:\n",
    "        rel_err[i] = 0\n",
    "    else:\n",
    "        rel_err[i] = np.abs(model_xdensity[i]-true_xdensity[i])/(true_xdensity[i])\n",
    "\n",
    "rel_err.mean()*100"
   ]
  },
  {
   "cell_type": "code",
   "execution_count": 17,
   "metadata": {},
   "outputs": [
    {
     "data": {
      "text/plain": [
       "-70.57305929524875"
      ]
     },
     "execution_count": 17,
     "metadata": {},
     "output_type": "execute_result"
    }
   ],
   "source": [
    "# true = test_targets.flatten()\n",
    "# model = test_outputs.flatten()\n",
    "\n",
    "# rel_err = np.empty(true.size)\n",
    "\n",
    "# for i in range(true.size):\n",
    "#     if true[i]==0 and model[i]!=0:\n",
    "#         rel_err[i] = np.abs(model[i]-true[i])/(model[i])\n",
    "#     elif model[i]==0 and true[i]==0:\n",
    "#         rel_err[i] = 0\n",
    "#     else:\n",
    "#         rel_err[i] = np.abs(model[i]-true[i])/(true[i])\n",
    "\n"
   ]
  },
  {
   "cell_type": "code",
   "execution_count": null,
   "metadata": {},
   "outputs": [],
   "source": []
  }
 ],
 "metadata": {
  "kernelspec": {
   "display_name": "learnsim",
   "language": "python",
   "name": "learnsim"
  },
  "language_info": {
   "codemirror_mode": {
    "name": "ipython",
    "version": 3
   },
   "file_extension": ".py",
   "mimetype": "text/x-python",
   "name": "python",
   "nbconvert_exporter": "python",
   "pygments_lexer": "ipython3",
   "version": "3.8.3-final"
  }
 },
 "nbformat": 4,
 "nbformat_minor": 4
}